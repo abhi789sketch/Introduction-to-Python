{
 "cells": [
  {
   "cell_type": "code",
   "execution_count": null,
   "id": "d5b4ecd4-3dfc-4a06-b412-7c2f16467fd1",
   "metadata": {},
   "outputs": [],
   "source": [
    "Function\n",
    "---------\n",
    "a short snippet of code\n",
    "there are following types of function available\n",
    "1.Default\n",
    "2.Argument\n",
    "3.return type\n",
    "4.PlaceHolder"
   ]
  },
  {
   "cell_type": "code",
   "execution_count": null,
   "id": "5b53149d-944c-4a1d-9c54-3edb0807089a",
   "metadata": {},
   "outputs": [],
   "source": [
    ".Built-in function:- Python predefined function that are readily available for use like min(),\n",
    "max(),sum(),print() etc.\n",
    ".User-Defined Function:- Function that we define ourselves to perform a specific task.\n",
    ".Anonymous funstions:- Function that is defined without a name.Anonymous function are also\n",
    "called as lambda functions."
   ]
  },
  {
   "cell_type": "code",
   "execution_count": null,
   "id": "072ed866-cfe3-41ec-a093-c6c3b3beccac",
   "metadata": {},
   "outputs": [],
   "source": [
    "default Function\n",
    "-----------------\n",
    "syntax:\n",
    "def function_name(): # function definition\n",
    "    logic/ statement\n",
    "function_name() # calling"
   ]
  },
  {
   "cell_type": "code",
   "execution_count": 2,
   "id": "6d1eb5fd-f099-4083-a89c-40b88af3b36d",
   "metadata": {},
   "outputs": [
    {
     "name": "stdin",
     "output_type": "stream",
     "text": [
      "enter the no 4\n",
      "enter the no 5\n"
     ]
    },
    {
     "name": "stdout",
     "output_type": "stream",
     "text": [
      "the sum is 9\n"
     ]
    }
   ],
   "source": [
    "def addition():\n",
    "    a=int(input(\"enter the no\"))\n",
    "    b=int(input(\"enter the no\"))\n",
    "    c=a+b\n",
    "    print(\"the sum is\",c)\n",
    "\n",
    "addition()"
   ]
  },
  {
   "cell_type": "code",
   "execution_count": 3,
   "id": "7793693b-c424-4d61-88b0-639a1a83fbe0",
   "metadata": {},
   "outputs": [
    {
     "name": "stdin",
     "output_type": "stream",
     "text": [
      "enter the no 78\n",
      "enter the no 10\n"
     ]
    },
    {
     "name": "stdout",
     "output_type": "stream",
     "text": [
      "the sum is 88\n"
     ]
    }
   ],
   "source": [
    "addition()"
   ]
  },
  {
   "cell_type": "code",
   "execution_count": 7,
   "id": "dc7b8982-ce5e-4882-9875-15c053e7c12b",
   "metadata": {},
   "outputs": [
    {
     "name": "stdin",
     "output_type": "stream",
     "text": [
      "enter the amt 1000\n",
      "enter the time 2\n",
      "enter the rate 6\n"
     ]
    },
    {
     "name": "stdout",
     "output_type": "stream",
     "text": [
      "simple interest 120.0\n"
     ]
    }
   ],
   "source": [
    "def interest():\n",
    "    \n",
    "    a=int(input(\"enter the amt\"))\n",
    "    b=int(input(\"enter the time\"))\n",
    "    c=int(input(\"enter the rate\"))\n",
    "    si=(a*b*c)/100\n",
    "    print(\"simple interest\",si)\n",
    "\n",
    "interest()"
   ]
  },
  {
   "cell_type": "code",
   "execution_count": 2,
   "id": "6ff1962a-1f98-4894-8ad8-c1f352e8a7e3",
   "metadata": {},
   "outputs": [
    {
     "name": "stdin",
     "output_type": "stream",
     "text": [
      "enter the no 10\n",
      "enter the no 10\n",
      "enter the no 10\n"
     ]
    },
    {
     "name": "stdout",
     "output_type": "stream",
     "text": [
      "average is 10.0\n"
     ]
    }
   ],
   "source": [
    "def average():\n",
    "    a=int(input(\"enter the no\"))\n",
    "    b=int(input(\"enter the no\"))\n",
    "    c=int(input(\"enter the no\"))\n",
    "    d=(a+b+c)/3\n",
    "    print(\"average is\",d)\n",
    "\n",
    "average()"
   ]
  },
  {
   "cell_type": "code",
   "execution_count": 11,
   "id": "054e6118-c725-481f-826f-b2114fd50ab9",
   "metadata": {},
   "outputs": [
    {
     "name": "stdin",
     "output_type": "stream",
     "text": [
      "enter the no 42\n"
     ]
    },
    {
     "name": "stdout",
     "output_type": "stream",
     "text": [
      "even no\n"
     ]
    }
   ],
   "source": [
    "def check():\n",
    "    n=int(input(\"enter the no\"))\n",
    "    if n%2==0:\n",
    "        print(\"even no\")\n",
    "    else:\n",
    "        print(\"odd no\")\n",
    "        \n",
    "check()"
   ]
  },
  {
   "cell_type": "code",
   "execution_count": 15,
   "id": "834d6ee5-b533-4cdb-b5b6-6092680f5427",
   "metadata": {},
   "outputs": [
    {
     "name": "stdin",
     "output_type": "stream",
     "text": [
      "enter the no 2016\n"
     ]
    },
    {
     "name": "stdout",
     "output_type": "stream",
     "text": [
      "leap year\n"
     ]
    }
   ],
   "source": [
    "def check_leap():\n",
    "    n=int(input(\"enter the no\"))\n",
    "    if n%4==0:\n",
    "        print(\"leap year\")\n",
    "    else:\n",
    "        print(\"not leap year\")\n",
    "\n",
    "check_leap()"
   ]
  },
  {
   "cell_type": "code",
   "execution_count": 17,
   "id": "d91edc6b-87e4-4b0d-8d71-c854e45ae8ec",
   "metadata": {},
   "outputs": [
    {
     "name": "stdin",
     "output_type": "stream",
     "text": [
      "enter the no 19\n"
     ]
    },
    {
     "name": "stdout",
     "output_type": "stream",
     "text": [
      "eligible for vote\n"
     ]
    }
   ],
   "source": [
    "def vote_eligibility():\n",
    "    n=int(input(\"enter the no\"))\n",
    "    if n>=18:\n",
    "        print(\"eligible for vote\")\n",
    "    else:\n",
    "        print(\"not eligible for vote\")\n",
    "vote_eligibility()"
   ]
  },
  {
   "cell_type": "code",
   "execution_count": 20,
   "id": "c422b7d6-4b46-4cc2-96cb-f1acfbdf02af",
   "metadata": {},
   "outputs": [
    {
     "name": "stdin",
     "output_type": "stream",
     "text": [
      "enter the no 78\n",
      "enter the no 45\n",
      "enter the no 12\n"
     ]
    },
    {
     "name": "stdout",
     "output_type": "stream",
     "text": [
      "78  is greatest\n"
     ]
    }
   ],
   "source": [
    "def greatest_no():\n",
    "    a=int(input(\"enter the no\"))\n",
    "    b=int(input(\"enter the no\"))\n",
    "    c=int(input(\"enter the no\"))\n",
    "    if a>b and a>c:\n",
    "        print(a,\" is greatest\")\n",
    "    elif b>a and b>c:\n",
    "        print(b,\" is greatest\")\n",
    "    else:\n",
    "        print(c,\" is greatest\")\n",
    "\n",
    "greatest_no()\n"
   ]
  },
  {
   "cell_type": "code",
   "execution_count": 22,
   "id": "aead1f55-ec38-489e-8f54-186b083d6643",
   "metadata": {},
   "outputs": [
    {
     "name": "stdin",
     "output_type": "stream",
     "text": [
      "enter the no 4\n"
     ]
    },
    {
     "name": "stdout",
     "output_type": "stream",
     "text": [
      "factorial is 24\n"
     ]
    }
   ],
   "source": [
    "def factorial():\n",
    "    n=int(input(\"enter the no\"))\n",
    "    f=1\n",
    "    for i in range(1,n+1):\n",
    "        f=f*i\n",
    "    print(\"factorial is\",f)\n",
    "factorial()"
   ]
  },
  {
   "cell_type": "code",
   "execution_count": 24,
   "id": "18a82e13-605b-4a33-90d3-884f4318fd03",
   "metadata": {},
   "outputs": [
    {
     "name": "stdin",
     "output_type": "stream",
     "text": [
      "enter the no 456\n"
     ]
    },
    {
     "name": "stdout",
     "output_type": "stream",
     "text": [
      "the reverse is 654\n"
     ]
    }
   ],
   "source": [
    "def reverse():\n",
    "    n=int(input(\"enter the no\"))\n",
    "    rev=0\n",
    "    while n>0:                          #rem=7\n",
    "                                        #rev=0*10+7=7  \n",
    "                                        #n=98\n",
    "                                        #rem=8 \n",
    "                                        #rev=7*10+8=78 \n",
    "                                        #n=9\n",
    "                                        #rem=9\n",
    "                                        #rev=78*10+9=789 \n",
    "                                        #n=0\n",
    "        \n",
    "        rem=n%10\n",
    "        rev=rev*10+rem\n",
    "        n=n//10\n",
    "    print(\"the reverse is\",rev)\n",
    "    \n",
    "reverse()"
   ]
  },
  {
   "cell_type": "code",
   "execution_count": 32,
   "id": "eb9bae1c-f725-4a63-9bb5-b1a52e135bd4",
   "metadata": {},
   "outputs": [
    {
     "name": "stdin",
     "output_type": "stream",
     "text": [
      "enter the no 29\n"
     ]
    },
    {
     "name": "stdout",
     "output_type": "stream",
     "text": [
      "prime no\n"
     ]
    }
   ],
   "source": [
    "def prime():\n",
    "    co=0\n",
    "    n=int(input(\"enter the no\"))\n",
    "    for i in range(1,n+1):\n",
    "        if n%i==0:\n",
    "            co=co+1\n",
    "    if co==2:\n",
    "                print(\"prime no\")\n",
    "    else:\n",
    "                print(\"not prime no\")\n",
    "            \n",
    "prime()"
   ]
  },
  {
   "cell_type": "code",
   "execution_count": null,
   "id": "9911ab32-b6a4-4d20-9e96-26c9eaae99f4",
   "metadata": {},
   "outputs": [],
   "source": [
    "Argument function \n",
    "--------------------\n",
    "def function_name(arg1,arg2..): #definition\n",
    "    logic/statement\n",
    "\n",
    "function_name(arg1,arg2)"
   ]
  },
  {
   "cell_type": "code",
   "execution_count": 1,
   "id": "d4f4102e-4b53-4250-88f7-bf557ffa5364",
   "metadata": {},
   "outputs": [
    {
     "name": "stdout",
     "output_type": "stream",
     "text": [
      "the sum is 35\n"
     ]
    }
   ],
   "source": [
    "def addition(a,b):\n",
    "    c=a+b\n",
    "    print(\"the sum is\",c)\n",
    "    \n",
    "addition(12,23)"
   ]
  },
  {
   "cell_type": "code",
   "execution_count": 2,
   "id": "47848f8e-cac2-41a1-8fd8-13f278410cbe",
   "metadata": {},
   "outputs": [
    {
     "name": "stdout",
     "output_type": "stream",
     "text": [
      "the sum is 35\n"
     ]
    },
    {
     "name": "stdin",
     "output_type": "stream",
     "text": [
      "enter the number 45\n",
      "enter the number 12\n"
     ]
    },
    {
     "name": "stdout",
     "output_type": "stream",
     "text": [
      "the sum is 57\n"
     ]
    }
   ],
   "source": [
    "def addition(a,b):\n",
    "    c=a+b\n",
    "    print(\"the sum is\",c)\n",
    "    \n",
    "addition(12,23)\n",
    "\n",
    "x=int(input(\"enter the number\"))\n",
    "y=int(input(\"enter the number\"))\n",
    "\n",
    "addition(x,y)"
   ]
  },
  {
   "cell_type": "code",
   "execution_count": 8,
   "id": "6a2a122a-1b3e-4a5a-bb60-218a41ef941e",
   "metadata": {},
   "outputs": [
    {
     "name": "stdout",
     "output_type": "stream",
     "text": [
      "even number\n"
     ]
    }
   ],
   "source": [
    "def check(n):\n",
    "    if n%2==0:\n",
    "        print(\"even number\")\n",
    "    else:\n",
    "        print(\"odd number\")\n",
    "\n",
    "check(78)\n"
   ]
  },
  {
   "cell_type": "code",
   "execution_count": 39,
   "id": "b5358258-896b-4dc4-98be-81bb956d48f6",
   "metadata": {},
   "outputs": [],
   "source": [
    "def largest(a,b,c):\n",
    "    if a>b:\n",
    "        if a>c:\n",
    "            print(\"A is grestest\")\n",
    "        else:\n",
    "            print(\"C is greatest\")\n",
    "\n",
    "        if b>c:\n",
    "               print(\"B is greatest\")    \n",
    "        else:\n",
    "               print(\"C is greatest\")\n",
    "               \n",
    "largest(23,43,12)"
   ]
  },
  {
   "cell_type": "code",
   "execution_count": 15,
   "id": "4332659c-c38c-4afd-bcc0-d9647c2e77a8",
   "metadata": {},
   "outputs": [
    {
     "name": "stdout",
     "output_type": "stream",
     "text": [
      "the factorial is 5040\n"
     ]
    }
   ],
   "source": [
    "def factorial(n):\n",
    "    f=1\n",
    "    for i in range(1,n+1):\n",
    "        f=f*i\n",
    "    print(\"the factorial is\",f)\n",
    "\n",
    "factorial(7)"
   ]
  },
  {
   "cell_type": "code",
   "execution_count": 25,
   "id": "b18004da-fb0e-432c-b541-1c60b2a692ef",
   "metadata": {},
   "outputs": [
    {
     "name": "stdout",
     "output_type": "stream",
     "text": [
      "the reverse is 543\n"
     ]
    }
   ],
   "source": [
    "def  reverse(n):\n",
    "    rev=0\n",
    "    while n>0:\n",
    "        rev=rev*10+n%10\n",
    "        n=n//10\n",
    "    print(\"the reverse is\",rev)\n",
    "\n",
    "reverse(345)"
   ]
  },
  {
   "cell_type": "code",
   "execution_count": 38,
   "id": "f99ff769-5a8a-44b2-b37b-5a41c9b59e94",
   "metadata": {},
   "outputs": [
    {
     "name": "stdout",
     "output_type": "stream",
     "text": [
      "prime number\n"
     ]
    }
   ],
   "source": [
    "def prime(n):\n",
    "    co=0\n",
    "    for i in range(1,n+1):\n",
    "        if n%i==0:\n",
    "            co=co+1\n",
    "    if co==2:\n",
    "            print(\"prime number\")\n",
    "    else:\n",
    "            print(\"not a prime\")\n",
    "\n",
    "prime(53)\n",
    "    \n"
   ]
  },
  {
   "cell_type": "code",
   "execution_count": 40,
   "id": "c6aacd3c-8899-4c33-a2ee-d8d765393ce1",
   "metadata": {},
   "outputs": [
    {
     "ename": "SyntaxError",
     "evalue": "invalid syntax (1014569751.py, line 1)",
     "output_type": "error",
     "traceback": [
      "\u001b[1;36m  Cell \u001b[1;32mIn[40], line 1\u001b[1;36m\u001b[0m\n\u001b[1;33m    return type function\u001b[0m\n\u001b[1;37m                ^\u001b[0m\n\u001b[1;31mSyntaxError\u001b[0m\u001b[1;31m:\u001b[0m invalid syntax\n"
     ]
    }
   ],
   "source": [
    "return type function\n",
    "----------------------\n",
    "\n",
    "def function_name(arg1,arg2,....):\n",
    "    logic\n",
    "    return value/values\n",
    "\n",
    "var=function_name(arg1,arg2..)\n",
    "print(var)\n",
    "\n",
    "print(function_name(arg1,arg2))"
   ]
  },
  {
   "cell_type": "code",
   "execution_count": null,
   "id": "42c493a9-34a0-483a-9795-72269996d170",
   "metadata": {},
   "outputs": [],
   "source": []
  },
  {
   "cell_type": "code",
   "execution_count": null,
   "id": "15b0e45c-760f-40a1-9b9c-800f6aa73e41",
   "metadata": {},
   "outputs": [],
   "source": []
  },
  {
   "cell_type": "code",
   "execution_count": null,
   "id": "ee349f3a-615f-482b-88e9-47d0184574e3",
   "metadata": {},
   "outputs": [],
   "source": []
  },
  {
   "cell_type": "code",
   "execution_count": null,
   "id": "fb6b5ad0-7004-4c76-b33d-3c16d2f37ca2",
   "metadata": {},
   "outputs": [],
   "source": []
  },
  {
   "cell_type": "code",
   "execution_count": null,
   "id": "0c292244-a6c2-4f8e-b615-79477a10949c",
   "metadata": {},
   "outputs": [],
   "source": []
  },
  {
   "cell_type": "code",
   "execution_count": null,
   "id": "7be84733-46ed-429f-adca-d4467605702c",
   "metadata": {},
   "outputs": [],
   "source": []
  },
  {
   "cell_type": "code",
   "execution_count": null,
   "id": "8844adea-b847-45bd-abf1-123d53b0c297",
   "metadata": {},
   "outputs": [],
   "source": []
  },
  {
   "cell_type": "code",
   "execution_count": null,
   "id": "19894a9f-694c-4b87-96d4-e3fb98c561f8",
   "metadata": {},
   "outputs": [],
   "source": []
  },
  {
   "cell_type": "code",
   "execution_count": null,
   "id": "75d3acb4-fa66-42a9-8e12-75c6fa6f5e33",
   "metadata": {},
   "outputs": [],
   "source": []
  }
 ],
 "metadata": {
  "kernelspec": {
   "display_name": "Python 3 (ipykernel)",
   "language": "python",
   "name": "python3"
  },
  "language_info": {
   "codemirror_mode": {
    "name": "ipython",
    "version": 3
   },
   "file_extension": ".py",
   "mimetype": "text/x-python",
   "name": "python",
   "nbconvert_exporter": "python",
   "pygments_lexer": "ipython3",
   "version": "3.11.7"
  }
 },
 "nbformat": 4,
 "nbformat_minor": 5
}
