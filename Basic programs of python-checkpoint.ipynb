{
 "cells": [
  {
   "cell_type": "code",
   "execution_count": 1,
   "id": "d5ca8b78-8049-4821-b2b7-e814816e7d91",
   "metadata": {},
   "outputs": [
    {
     "name": "stdout",
     "output_type": "stream",
     "text": [
      "300\n",
      "the sum is 300\n"
     ]
    }
   ],
   "source": [
    "a=100\n",
    "b=200\n",
    "c=a+b\n",
    "print(c)\n",
    "print(\"the sum is\",c)"
   ]
  },
  {
   "cell_type": "code",
   "execution_count": null,
   "id": "cc2a0dbd-fd8d-472b-bcc3-e69bb696d15d",
   "metadata": {},
   "outputs": [],
   "source": [
    "a=100\n",
    "b=200\n",
    "c=b-a\n",
    "print(c)\n",
    "print(\"the sub is\",c)"
   ]
  },
  {
   "cell_type": "code",
   "execution_count": 2,
   "id": "4e7136bc-4a5e-4931-af06-d993ad4e99c3",
   "metadata": {},
   "outputs": [
    {
     "name": "stdout",
     "output_type": "stream",
     "text": [
      "the multipication is 500\n"
     ]
    }
   ],
   "source": [
    "a=100\n",
    "b=5\n",
    "c=a*b\n",
    "print(\"the multiplication is\",c)"
   ]
  },
  {
   "cell_type": "code",
   "execution_count": 3,
   "id": "ae4b5b97-9162-4a0a-9ef1-d97627afd76f",
   "metadata": {},
   "outputs": [
    {
     "name": "stdout",
     "output_type": "stream",
     "text": [
      "the interest is 450.0\n"
     ]
    }
   ],
   "source": [
    "p=2000\n",
    "r=4.5\n",
    "t=5\n",
    "si=p*r*t/100\n",
    "print(\"the interest is\",si)"
   ]
  },
  {
   "cell_type": "code",
   "execution_count": 8,
   "id": "43a26556-3198-4523-b76a-67c0b092ae9e",
   "metadata": {},
   "outputs": [
    {
     "name": "stdout",
     "output_type": "stream",
     "text": [
      "average is 51.666666666666664\n"
     ]
    }
   ],
   "source": [
    "a=40\n",
    "b=45\n",
    "c=70\n",
    "d=(a+b+c)/3\n",
    "print(\"average is\",d)"
   ]
  },
  {
   "cell_type": "code",
   "execution_count": 6,
   "id": "41b51f05-3ff1-45de-88b5-8582dcdc6241",
   "metadata": {},
   "outputs": [
    {
     "name": "stdout",
     "output_type": "stream",
     "text": [
      "the percentage is 72.8\n"
     ]
    }
   ],
   "source": [
    "p=56\n",
    "c=89\n",
    "m=87\n",
    "e=56\n",
    "h=76\n",
    "s=p+c+m+e+h\n",
    "per=s*100/500\n",
    "print(\"the percentage is\",per)"
   ]
  },
  {
   "cell_type": "code",
   "execution_count": 9,
   "id": "d4e58d10-963b-4898-9dd5-04ec67ed981b",
   "metadata": {},
   "outputs": [
    {
     "name": "stdout",
     "output_type": "stream",
     "text": [
      "the values before swapping\n",
      "A= 10\n",
      "B= 20\n",
      "values after swapping\n",
      "A= 20\n",
      "B= 10\n"
     ]
    }
   ],
   "source": [
    "a=10\n",
    "b=20\n",
    "print(\"the values before swapping\")\n",
    "print(\"A=\",a)\n",
    "print(\"B=\",b)\n",
    "temp=a #temp=10\n",
    "a=b #a=20\n",
    "b=temp\n",
    "print(\"values after swapping\")\n",
    "print(\"A=\",a)\n",
    "print(\"B=\",b)"
   ]
  },
  {
   "cell_type": "code",
   "execution_count": 19,
   "id": "7652e0c3-3514-486e-9a0e-abed31467b59",
   "metadata": {},
   "outputs": [],
   "source": [
    "a=20\n",
    "b=10"
   ]
  },
  {
   "cell_type": "code",
   "execution_count": 20,
   "id": "c71bf70c-7870-481c-aacc-df6a544de90b",
   "metadata": {},
   "outputs": [
    {
     "data": {
      "text/plain": [
       "False"
      ]
     },
     "execution_count": 20,
     "metadata": {},
     "output_type": "execute_result"
    }
   ],
   "source": [
    "a==b"
   ]
  },
  {
   "cell_type": "code",
   "execution_count": 21,
   "id": "f82f8d53-9a59-4079-bcc1-4038f6428fa2",
   "metadata": {},
   "outputs": [
    {
     "data": {
      "text/plain": [
       "True"
      ]
     },
     "execution_count": 21,
     "metadata": {},
     "output_type": "execute_result"
    }
   ],
   "source": [
    "a>b"
   ]
  },
  {
   "cell_type": "code",
   "execution_count": 22,
   "id": "b39c5165-9b58-4c13-a855-3fe46cf2372b",
   "metadata": {},
   "outputs": [
    {
     "data": {
      "text/plain": [
       "False"
      ]
     },
     "execution_count": 22,
     "metadata": {},
     "output_type": "execute_result"
    }
   ],
   "source": [
    "a<b"
   ]
  },
  {
   "cell_type": "code",
   "execution_count": 23,
   "id": "f5bec45c-855f-4178-afd6-f587d40ff738",
   "metadata": {},
   "outputs": [
    {
     "data": {
      "text/plain": [
       "True"
      ]
     },
     "execution_count": 23,
     "metadata": {},
     "output_type": "execute_result"
    }
   ],
   "source": [
    "True and True and True"
   ]
  },
  {
   "cell_type": "code",
   "execution_count": 24,
   "id": "a7580d6d-1019-4784-8583-0acde7939978",
   "metadata": {},
   "outputs": [
    {
     "data": {
      "text/plain": [
       "False"
      ]
     },
     "execution_count": 24,
     "metadata": {},
     "output_type": "execute_result"
    }
   ],
   "source": [
    "True and True and False"
   ]
  },
  {
   "cell_type": "code",
   "execution_count": 25,
   "id": "db7ee11b-e26c-463a-ba48-cdff00f9d819",
   "metadata": {},
   "outputs": [
    {
     "data": {
      "text/plain": [
       "True"
      ]
     },
     "execution_count": 25,
     "metadata": {},
     "output_type": "execute_result"
    }
   ],
   "source": [
    "False or True or False"
   ]
  },
  {
   "cell_type": "code",
   "execution_count": 26,
   "id": "6eb968c0-9192-44bb-9329-f53c9f4e1f43",
   "metadata": {},
   "outputs": [
    {
     "data": {
      "text/plain": [
       "True"
      ]
     },
     "execution_count": 26,
     "metadata": {},
     "output_type": "execute_result"
    }
   ],
   "source": [
    "True and False or True"
   ]
  },
  {
   "cell_type": "code",
   "execution_count": 27,
   "id": "227f6c28-967c-4494-a560-7307e5f8153d",
   "metadata": {},
   "outputs": [
    {
     "data": {
      "text/plain": [
       "True"
      ]
     },
     "execution_count": 27,
     "metadata": {},
     "output_type": "execute_result"
    }
   ],
   "source": [
    "True and False or True"
   ]
  },
  {
   "cell_type": "code",
   "execution_count": 28,
   "id": "e2de7cf6-e617-4a28-811f-9fa960a5be3b",
   "metadata": {},
   "outputs": [
    {
     "data": {
      "text/plain": [
       "True"
      ]
     },
     "execution_count": 28,
     "metadata": {},
     "output_type": "execute_result"
    }
   ],
   "source": [
    "not False"
   ]
  },
  {
   "cell_type": "code",
   "execution_count": 29,
   "id": "dd089ff1-973e-4450-b821-fc011d718aea",
   "metadata": {},
   "outputs": [
    {
     "data": {
      "text/plain": [
       "True"
      ]
     },
     "execution_count": 29,
     "metadata": {},
     "output_type": "execute_result"
    }
   ],
   "source": [
    "not True and True or False or False or True and True"
   ]
  },
  {
   "cell_type": "code",
   "execution_count": 30,
   "id": "287940c1-a206-4df6-84d2-ab25e573a361",
   "metadata": {},
   "outputs": [
    {
     "name": "stdin",
     "output_type": "stream",
     "text": [
      "Enter the value of a 4\n",
      "enter the value of b 5\n"
     ]
    },
    {
     "name": "stdout",
     "output_type": "stream",
     "text": [
      "the sum is 9\n"
     ]
    }
   ],
   "source": [
    "a=int(input(\"Enter the value of a\"))\n",
    "b=int(input(\"enter the value of b\"))\n",
    "c=a+b\n",
    "print(\"the sum is\",c)"
   ]
  },
  {
   "cell_type": "code",
   "execution_count": 33,
   "id": "eca72ed3-a176-4de7-bb68-4ff8d595ed97",
   "metadata": {},
   "outputs": [
    {
     "name": "stdin",
     "output_type": "stream",
     "text": [
      "enter the value of a 40\n",
      "enter the value of b 20\n",
      "enter the value of c 30\n"
     ]
    },
    {
     "name": "stdout",
     "output_type": "stream",
     "text": [
      "the average is 30\n"
     ]
    }
   ],
   "source": [
    "a=int(input(\"enter the value of a\"))\n",
    "b=int(input(\"enter the value of b\"))\n",
    "c=int(input(\"enter the value of c\"))\n",
    "avg=(a+b+c)/3\n",
    "print(\"the average is\",c)"
   ]
  },
  {
   "cell_type": "code",
   "execution_count": 36,
   "id": "bc1a8a72-b799-438d-8a33-5c4035775907",
   "metadata": {},
   "outputs": [
    {
     "name": "stdin",
     "output_type": "stream",
     "text": [
      "enter the value of a 78\n",
      "enter the value of b 56\n",
      "enter the value of c 63\n",
      "enter the value of d 75\n"
     ]
    },
    {
     "name": "stdout",
     "output_type": "stream",
     "text": [
      "percentage 68.0\n"
     ]
    }
   ],
   "source": [
    "a=int(input(\"enter the value of a\"))\n",
    "b=int(input(\"enter the value of b\"))\n",
    "c=int(input(\"enter the value of c\"))\n",
    "d=int(input(\"enter the value of d\"))\n",
    "tm=(a+b+c+d)/400*100\n",
    "print(\"percentage\",tm)"
   ]
  },
  {
   "cell_type": "code",
   "execution_count": 35,
   "id": "bf8d9668-ab97-4a39-a1f6-c344e8fbf994",
   "metadata": {},
   "outputs": [
    {
     "name": "stdin",
     "output_type": "stream",
     "text": [
      "enter the value of x 4\n",
      "enter the value of y 5\n"
     ]
    },
    {
     "name": "stdout",
     "output_type": "stream",
     "text": [
      " is x greater than y:- False\n",
      "\n",
      " is x less than y:- True\n",
      "\n",
      " is x equal to y:- False\n",
      "\n",
      " is x not qual to y:- True\n",
      "\n",
      " is x greater then equal to x:- False\n"
     ]
    }
   ],
   "source": [
    "x=int(input(\"enter the value of x\"))\n",
    "y=int(input(\"enter the value of y\"))\n",
    "print(' is x greater than y:-',x>y)\n",
    "print('\\n is x less than y:-',x<y)\n",
    "print('\\n is x equal to y:-',x==y)\n",
    "print('\\n is x not qual to y:-',x!=y)\n",
    "print('\\n is x greater then equal to x:-',x>=y)"
   ]
  },
  {
   "cell_type": "code",
   "execution_count": 37,
   "id": "5620c8ee-9dae-434b-aa80-0f7c0f0b11fc",
   "metadata": {},
   "outputs": [
    {
     "name": "stdin",
     "output_type": "stream",
     "text": [
      "enter the number 36\n"
     ]
    },
    {
     "name": "stdout",
     "output_type": "stream",
     "text": [
      "6.0\n"
     ]
    }
   ],
   "source": [
    "import math\n",
    "n=int(input(\"enter the number\"))\n",
    "x=math.sqrt(n)\n",
    "print(x) "
   ]
  },
  {
   "cell_type": "code",
   "execution_count": 40,
   "id": "e93e472c-05bb-440e-b2a7-da2ebad9707b",
   "metadata": {},
   "outputs": [
    {
     "name": "stdin",
     "output_type": "stream",
     "text": [
      "enter the number 4\n",
      "enter the value of exponential 2\n"
     ]
    },
    {
     "name": "stdout",
     "output_type": "stream",
     "text": [
      "16\n",
      "16\n",
      "16.0\n"
     ]
    }
   ],
   "source": [
    "a=int(input(\"enter the number\"))\n",
    "b=int(input(\"enter the value of exponential\"))\n",
    "print(a**b)\n",
    "print(pow(a,b))\n",
    "print(math.pow(a,b))"
   ]
  },
  {
   "cell_type": "code",
   "execution_count": null,
   "id": "366493aa-358b-4f19-b6e4-cc77c1f8d554",
   "metadata": {},
   "outputs": [],
   "source": []
  }
 ],
 "metadata": {
  "kernelspec": {
   "display_name": "Python 3 (ipykernel)",
   "language": "python",
   "name": "python3"
  },
  "language_info": {
   "codemirror_mode": {
    "name": "ipython",
    "version": 3
   },
   "file_extension": ".py",
   "mimetype": "text/x-python",
   "name": "python",
   "nbconvert_exporter": "python",
   "pygments_lexer": "ipython3",
   "version": "3.11.7"
  }
 },
 "nbformat": 4,
 "nbformat_minor": 5
}
